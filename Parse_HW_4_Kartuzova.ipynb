{
 "cells": [
  {
   "cell_type": "code",
   "execution_count": 121,
   "id": "f78bae5c",
   "metadata": {},
   "outputs": [
    {
     "name": "stdout",
     "output_type": "stream",
     "text": [
      "Родителям и детям 03.04.2023 Дорогие родители и дети! Перед Вами книга, которая поможет в игровой форме путешествовать по увлекательному миру развития. Стихи и задания к ним помогут Вашему ребенку развить внимание, память; подгот... Подробнее https://aldebaran.ru/author/kosagaeva_yuliya/kniga_roditelyam_i_detyam/ Юлия Косагаева\n"
     ]
    }
   ],
   "source": [
    "import requests\n",
    "from bs4 import BeautifulSoup  \n",
    "url = 'https://aldebaran.ru/knigi/pagenum-{p}/' # сохраняем\n",
    "\n",
    "page = requests.get(url) # загружаем страницу по ссылке\n",
    "      #page\n",
    "#page.content[:1000]\n",
    "tree = BeautifulSoup(page.content, 'html')\n",
    "#tree\n",
    "tree.html.head.title.text.strip()\n",
    "books = tree.find_all('div',{'class':'book_info clearfix'})\n",
    "#len(books)\n",
    "books[0]\n",
    "type(books[0])\n",
    "title = books[0].find('p', {'class': 'booktitle'}).text\n",
    "bookpage = books[0].find('p', {'class': 'booktitle'})\n",
    "b_urls = []\n",
    "\n",
    "#pager = []\n",
    "#for link in tree.find_all('a'):\n",
    "     #if link.get('href') and '/knigi' in link.get('href'):\n",
    "           # pager.append ('https://aldebaran.ru'+ link.get('href'))\n",
    "#print(pager [8:17])\n",
    "\n",
    "\n",
    "for link in bookpage.find_all('a'):\n",
    "       if link.get('href') and '/author' in link.get('href'):\n",
    "            b_urls.append ('https://aldebaran.ru'+ link.get('href'))\n",
    "            booklink = ' '.join(b_urls) #переводим список со ссылкой на книгу в строку\n",
    "            pageid = requests.get (booklink)\n",
    "            treeid = BeautifulSoup(pageid.content, 'html')\n",
    "            author = treeid.find('a', {'data-widget-litres-author' :'1'}).text           \n",
    "            dateadd = books[0].find('p', {'class': 'date_add'}).text\n",
    "            introbook = books[0].find('div',{'class':'book_intro'}).text                            \n",
    "            \n",
    "\n",
    "            print(title, dateadd, introbook, booklink,author)\n"
   ]
  },
  {
   "cell_type": "code",
   "execution_count": 42,
   "id": "92a5b4db",
   "metadata": {
    "scrolled": false
   },
   "outputs": [
    {
     "ename": "SyntaxError",
     "evalue": "invalid syntax (1128344504.py, line 1)",
     "output_type": "error",
     "traceback": [
      "\u001b[1;36m  Input \u001b[1;32mIn [42]\u001b[1;36m\u001b[0m\n\u001b[1;33m    https://aldebaran.ru/knigi/pagenum-2/\u001b[0m\n\u001b[1;37m          ^\u001b[0m\n\u001b[1;31mSyntaxError\u001b[0m\u001b[1;31m:\u001b[0m invalid syntax\n"
     ]
    }
   ],
   "source": [
    "https://aldebaran.ru/knigi/pagenum-2/"
   ]
  },
  {
   "cell_type": "code",
   "execution_count": 187,
   "id": "a8eada03",
   "metadata": {},
   "outputs": [],
   "source": [
    "def get_page(p):\n",
    "    \n",
    "    url = 'https://aldebaran.ru/knigi/pagenum-21/'\n",
    "    \n",
    "    # сходили по ней\n",
    "    response = requests.get(url)\n",
    "    \n",
    "    # построили дерево \n",
    "    tree = BeautifulSoup(response.content, 'html')\n",
    "    books = tree.find_all('div',{'class':'book_info clearfix'})\n",
    "    b_urls = []  \n",
    "    infa = [ ]\n",
    "    for book in books:       \n",
    "        infa.append({'booktitle': book.find('p', {'class': 'booktitle'}).text,\n",
    "                     'data': book.find('p', {'class': 'date_add'}),\n",
    "                     'introbook': book.find('div', {'class':'book_intro'}).text\n",
    "                \n",
    "                     })\n",
    "                      \n",
    "    return infa"
   ]
  },
  {
   "cell_type": "code",
   "execution_count": 188,
   "id": "2daed8a3",
   "metadata": {},
   "outputs": [
    {
     "name": "stderr",
     "output_type": "stream",
     "text": [
      "100%|████████████████████████████████████████████████████████████████████████████████████| 1/1 [00:01<00:00,  1.11s/it]\n"
     ]
    }
   ],
   "source": [
    "from tqdm import tqdm\n",
    "infa = []\n",
    "\n",
    "for p in tqdm(range(1,2)):\n",
    "    infa.extend(get_page(p))\n",
    "   "
   ]
  },
  {
   "cell_type": "code",
   "execution_count": null,
   "id": "c07fc4b9",
   "metadata": {
    "scrolled": false
   },
   "outputs": [],
   "source": []
  },
  {
   "cell_type": "code",
   "execution_count": 189,
   "id": "51bca68a",
   "metadata": {},
   "outputs": [
    {
     "name": "stdout",
     "output_type": "stream",
     "text": [
      "(40, 3)\n"
     ]
    }
   ],
   "source": [
    "import pandas as pd\n",
    "\n",
    "df = pd.DataFrame(infa)\n",
    "print(df.shape)\n",
    "df.tail()\n",
    "df.to_excel('df21.xlsx')"
   ]
  },
  {
   "cell_type": "code",
   "execution_count": null,
   "id": "638b9f9b",
   "metadata": {},
   "outputs": [],
   "source": [
    "#print(soup0.find_all('meta'))\n",
    "     #last_page_num = int((soup.find_all('a', class_ = 'page-link'))[-2].text)\n",
    "     #pagenums = last_page_num if pagenums < last_pagenum else pagenums\n",
    "      #  params+= 1})\n",
    "#print(soup0.find_all('meta'))\n",
    "     #last_page_num = int((soup.find_all('a', class_ = 'page-link'))[-2].text)\n",
    "     #pagenums = last_page_num if pagenums < last_pagenum else pagenums\n",
    "      #  params+= 1"
   ]
  },
  {
   "cell_type": "code",
   "execution_count": null,
   "id": "a28c0cb8",
   "metadata": {},
   "outputs": [],
   "source": []
  },
  {
   "cell_type": "code",
   "execution_count": null,
   "id": "47dcfb6e",
   "metadata": {},
   "outputs": [],
   "source": []
  },
  {
   "cell_type": "code",
   "execution_count": null,
   "id": "de441995",
   "metadata": {},
   "outputs": [],
   "source": [
    "              "
   ]
  },
  {
   "cell_type": "code",
   "execution_count": null,
   "id": "7b8f3ba8",
   "metadata": {},
   "outputs": [],
   "source": []
  },
  {
   "cell_type": "code",
   "execution_count": null,
   "id": "e6862a83",
   "metadata": {},
   "outputs": [],
   "source": []
  },
  {
   "cell_type": "code",
   "execution_count": null,
   "id": "0f9b87d8",
   "metadata": {},
   "outputs": [],
   "source": []
  },
  {
   "cell_type": "code",
   "execution_count": null,
   "id": "e51678da",
   "metadata": {},
   "outputs": [],
   "source": []
  },
  {
   "cell_type": "code",
   "execution_count": 95,
   "id": "41fb152f",
   "metadata": {},
   "outputs": [],
   "source": []
  },
  {
   "cell_type": "code",
   "execution_count": null,
   "id": "46e88a02",
   "metadata": {},
   "outputs": [],
   "source": []
  },
  {
   "cell_type": "code",
   "execution_count": null,
   "id": "5c067319",
   "metadata": {},
   "outputs": [],
   "source": []
  },
  {
   "cell_type": "code",
   "execution_count": null,
   "id": "4463e1f6",
   "metadata": {},
   "outputs": [],
   "source": []
  },
  {
   "cell_type": "code",
   "execution_count": null,
   "id": "83729950",
   "metadata": {},
   "outputs": [],
   "source": []
  },
  {
   "cell_type": "code",
   "execution_count": null,
   "id": "addd1739",
   "metadata": {},
   "outputs": [],
   "source": []
  },
  {
   "cell_type": "code",
   "execution_count": null,
   "id": "0ebb854b",
   "metadata": {},
   "outputs": [],
   "source": []
  },
  {
   "cell_type": "code",
   "execution_count": null,
   "id": "786e0382",
   "metadata": {},
   "outputs": [],
   "source": []
  },
  {
   "cell_type": "code",
   "execution_count": null,
   "id": "1254cc0d",
   "metadata": {},
   "outputs": [],
   "source": []
  },
  {
   "cell_type": "code",
   "execution_count": null,
   "id": "a23b0e8c",
   "metadata": {},
   "outputs": [],
   "source": []
  },
  {
   "cell_type": "code",
   "execution_count": null,
   "id": "d2844e06",
   "metadata": {},
   "outputs": [],
   "source": []
  },
  {
   "cell_type": "code",
   "execution_count": null,
   "id": "f85e7451",
   "metadata": {},
   "outputs": [],
   "source": []
  },
  {
   "cell_type": "code",
   "execution_count": null,
   "id": "bfac231d",
   "metadata": {},
   "outputs": [],
   "source": []
  }
 ],
 "metadata": {
  "kernelspec": {
   "display_name": "Python 3 (ipykernel)",
   "language": "python",
   "name": "python3"
  },
  "language_info": {
   "codemirror_mode": {
    "name": "ipython",
    "version": 3
   },
   "file_extension": ".py",
   "mimetype": "text/x-python",
   "name": "python",
   "nbconvert_exporter": "python",
   "pygments_lexer": "ipython3",
   "version": "3.9.12"
  }
 },
 "nbformat": 4,
 "nbformat_minor": 5
}
